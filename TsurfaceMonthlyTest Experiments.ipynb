{
 "cells": [
  {
   "cell_type": "code",
   "execution_count": 1,
   "metadata": {
    "collapsed": true
   },
   "outputs": [],
   "source": [
    "import xray\n",
    "import dask\n",
    "import numpy"
   ]
  },
  {
   "cell_type": "code",
   "execution_count": 2,
   "metadata": {
    "collapsed": false
   },
   "outputs": [
    {
     "name": "stdout",
     "output_type": "stream",
     "text": [
      "<xray.Dataset>\n",
      "Dimensions:   (Lat: 129, Lon: 178, Shade: 5, Time: 288)\n",
      "Coordinates:\n",
      "  * Lat       (Lat) float64 16.42 16.73 17.04 17.35 17.66 17.97 18.29 18.6 ...\n",
      "  * Time      (Time) int32 100 101 102 103 104 105 106 107 108 109 110 111 ...\n",
      "  * Shade     (Shade) float64 0.0 25.0 50.0 75.0 100.0\n",
      "  * Lon       (Lon) float64 -62.35 -61.93 -61.51 -61.09 -60.67 -60.26 -59.84 ...\n",
      "Data variables:\n",
      "    Tsurface  (Shade, Time, Lat, Lon) float32 nan nan nan nan nan nan nan ...\n"
     ]
    }
   ],
   "source": [
    "combinedTest = xray.open_mfdataset(\"TsurfaceMonthlyTest/*.nc\")\n",
    "print combinedTest"
   ]
  },
  {
   "cell_type": "code",
   "execution_count": 3,
   "metadata": {
    "collapsed": false
   },
   "outputs": [
    {
     "name": "stdout",
     "output_type": "stream",
     "text": [
      "<xray.Dataset>\n",
      "Dimensions:   (Lat: 129, Lon: 199, Shade: 5, Time: 288)\n",
      "Coordinates:\n",
      "  * Lon       (Lon) float64 -145.0 -144.6 -144.2 -143.8 -143.4 -143.0 -142.6 ...\n",
      "  * Lat       (Lat) float64 16.42 16.73 17.04 17.35 17.66 17.97 18.29 18.6 ...\n",
      "  * Time      (Time) int32 100 101 102 103 104 105 106 107 108 109 110 111 ...\n",
      "  * Shade     (Shade) float64 0.0 25.0 50.0 75.0 100.0\n",
      "Data variables:\n",
      "    Tsurface  (Shade, Time, Lat, Lon) float32 nan nan nan nan nan nan nan ...\n"
     ]
    }
   ],
   "source": [
    "precombined = xray.open_mfdataset(\"TsurfTest.nc\")\n",
    "print precombined"
   ]
  },
  {
   "cell_type": "markdown",
   "metadata": {},
   "source": [
    "Notice here how the dimensions are different. Specifically, the Longitude dimension in the precombined `TsurfTest.nc` file is larger than in the `xray`-concatenated dataset. **why is this happening?**"
   ]
  },
  {
   "cell_type": "markdown",
   "metadata": {},
   "source": [
    "This makes comparing the datasets for accuracy difficult. I'll start by picking a set of coordinates and comparing the Tsurface variable in both sets. "
   ]
  },
  {
   "cell_type": "code",
   "execution_count": 17,
   "metadata": {
    "collapsed": false
   },
   "outputs": [
    {
     "name": "stdout",
     "output_type": "stream",
     "text": [
      "41.4291725159\n",
      "-126.238174438\n",
      "114\n",
      "100.0\n",
      "278.258148193\n"
     ]
    }
   ],
   "source": [
    "print precombined.isel(Time=14, Lat=78, Shade=4, Lon=44).Lat.values\n",
    "print precombined.isel(Time=14, Lat=78, Shade=4, Lon=44).Lon.values\n",
    "print precombined.isel(Time=14, Lat=78, Shade=4, Lon=44).Time.values\n",
    "print precombined.isel(Time=14, Lat=78, Shade=4, Lon=44).Shade.values\n",
    "print precombined.isel(Time=14, Lat=78, Shade=4, Lon=44).Tsurface.values\n"
   ]
  },
  {
   "cell_type": "code",
   "execution_count": 28,
   "metadata": {
    "collapsed": false
   },
   "outputs": [
    {
     "data": {
      "text/plain": [
       "<xray.Dataset>\n",
       "Dimensions:   ()\n",
       "Coordinates:\n",
       "    Lat       float64 41.43\n",
       "    Time      int32 114\n",
       "    Shade     float64 100.0\n",
       "    Lon       float64 -126.2\n",
       "Data variables:\n",
       "    Tsurface  float32 278.258"
      ]
     },
     "execution_count": 28,
     "metadata": {},
     "output_type": "execute_result"
    }
   ],
   "source": [
    "combinedTest.sel(Lat=41.4, method='nearest').sel(Time=114, Shade=100).isel(Lon=42)"
   ]
  },
  {
   "cell_type": "code",
   "execution_count": null,
   "metadata": {
    "collapsed": true
   },
   "outputs": [],
   "source": []
  }
 ],
 "metadata": {
  "kernelspec": {
   "display_name": "Python 2",
   "language": "python",
   "name": "python2"
  },
  "language_info": {
   "codemirror_mode": {
    "name": "ipython",
    "version": 2
   },
   "file_extension": ".py",
   "mimetype": "text/x-python",
   "name": "python",
   "nbconvert_exporter": "python",
   "pygments_lexer": "ipython2",
   "version": "2.7.8"
  }
 },
 "nbformat": 4,
 "nbformat_minor": 0
}
